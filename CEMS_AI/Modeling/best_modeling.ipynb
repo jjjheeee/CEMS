{
 "cells": [
  {
   "cell_type": "code",
   "execution_count": 3,
   "metadata": {},
   "outputs": [],
   "source": [
    "from word_embedding import embedding_word\n",
    "from gensim.models import Word2Vec,FastText\n",
    "import pandas as pd\n",
    "import pickle"
   ]
  },
  {
   "cell_type": "code",
   "execution_count": null,
   "metadata": {},
   "outputs": [],
   "source": [
    "# 데이터 전처리\n",
    "df = pd.read_csv('C:/big15/project/member/KIM/CEMS_AI/Data/all_data.csv')\n",
    "df = embedding_word.split_df(df,'sentence')\n",
    "all_df = embedding_word.preprosessing(df)\n",
    "\n",
    "# 전처리한 데이터 저장\n",
    "all_df.to_excel('C:/big15/project/member/KIM/CEMS_AI/Data/sentence_data.xlsx',index=False)"
   ]
  },
  {
   "cell_type": "code",
   "execution_count": null,
   "metadata": {},
   "outputs": [],
   "source": [
    "# 코모란 tokenize\n",
    "token_list = embedding_word.tokenizer_kom(all_df)\n",
    "\n",
    "# save komoran list \n",
    "with open('C:/big15/project/member/KIM/CEMS_AI/Best_Model/kom_list_best.pickle','wb') as f:\n",
    "    pickle.dump(token_list,f)"
   ]
  },
  {
   "cell_type": "code",
   "execution_count": null,
   "metadata": {},
   "outputs": [],
   "source": [
    "## 모델링\n",
    "'''\n",
    "    여러가지 모델링을 시도해봤지만 아래 2개 모델이 가장 나은 결과를 보여 주었다.\n",
    "'''\n",
    "# cbow 사용, 네거티브 적용(hs=0), 합 사용\n",
    "model_kom_ft_ne_sum = FastText(sentences=token_list, vector_size=100, alpha=0.05\n",
    "                     , sg=0, hs=0,cbow_mean=0, min_count=1, min_n=1, max_n=2\n",
    "                     , window=8, workers=16, epochs=300)\n",
    "\n",
    "# cbow 사용, 네거티브 적용(hs=0), 합 사용\n",
    "model_kom_wd_ne_sum = Word2Vec(sentences=token_list, vector_size=100, alpha=0.05\n",
    "                     , sg=0, hs=0, cbow_mean=0, min_count=1\n",
    "                     , window=8, workers=16, epochs=300)"
   ]
  },
  {
   "cell_type": "code",
   "execution_count": null,
   "metadata": {},
   "outputs": [],
   "source": [
    "# save fast text model\n",
    "path_ft = 'C:/big15/project/member/KIM/CEMS_AI/Best_Model/kom_ft_ne_sum_best.model'\n",
    "embedding_word.save_model(model_kom_ft_ne_sum, path_ft)\n",
    "\n",
    "# save word2vec model\n",
    "path_wd = 'C:/big15/project/member/KIM/CEMS_AI/Best_Model/kom_wd_ne_sum.model'\n",
    "embedding_word.save_model(model_kom_wd_ne_sum, path_wd)"
   ]
  }
 ],
 "metadata": {
  "kernelspec": {
   "display_name": "Python 3.8.13 ('tf2')",
   "language": "python",
   "name": "python3"
  },
  "language_info": {
   "codemirror_mode": {
    "name": "ipython",
    "version": 3
   },
   "file_extension": ".py",
   "mimetype": "text/x-python",
   "name": "python",
   "nbconvert_exporter": "python",
   "pygments_lexer": "ipython3",
   "version": "3.8.13"
  },
  "orig_nbformat": 4,
  "vscode": {
   "interpreter": {
    "hash": "645ecf39b749c568d5d4006fbeacede757e77bc36f68b1a673586522d8c82137"
   }
  }
 },
 "nbformat": 4,
 "nbformat_minor": 2
}
